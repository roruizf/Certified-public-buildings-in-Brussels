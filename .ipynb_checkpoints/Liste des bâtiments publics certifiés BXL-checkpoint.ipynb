{
 "cells": [
  {
   "cell_type": "markdown",
   "metadata": {},
   "source": [
    "<img src=\"images/illu_fr_logobe.jpeg\"\n",
    "    style=\"width:300px; float: right; margin: 0 40px 40px 40px;\"></img>\n",
    "<!-- <img src=\"images/illu_fr_logobe.jpeg\", width=200, height=200> -->\n",
    "\n",
    "# ___Liste des bâtiments publics certifiés BXL___\n",
    "\n",
    "**Catégories de bâtiments :**\n",
    "1. Services administratifs\n",
    "2. Crèches\n",
    "3. Enseignement du jour OU du soir\n",
    "4. Enseignement du jour ET du soir\n",
    "5. Enseignement supérieur\n",
    "6. Hôpitaux\n",
    "8. Maisons de repos, maisons de revalidation et de soins et services similaires, établissements pénitentiaires\n",
    "10. Centres sportifs\n",
    "11. Théatres et centres culturels\n",
    "12. Musées, bibliothèques, médiathèques et services similaires\n",
    "13. Ateliers, centres funéraires, dépôts, ...mm\n",
    "\n",
    "> ***Source : https://www.peb-epb.brussels/pub-frontoffice/pages/anybody.xhtml***\n",
    "<!-- ![purple-divider](https://user-images.githubusercontent.com/7065401/52071927-c1cd7100-2562-11e9-908a-dde91ba14e59.png) -->\n",
    "![green-divider](https://user-images.githubusercontent.com/7065401/52071924-c003ad80-2562-11e9-8297-1c6595f8a7ff.png)"
   ]
  },
  {
   "cell_type": "code",
   "execution_count": 1,
   "metadata": {},
   "outputs": [],
   "source": [
    "import numpy as np\n",
    "import pandas as pd\n",
    "import seaborn as sns\n",
    "import matplotlib.pyplot as plt"
   ]
  },
  {
   "cell_type": "code",
   "execution_count": 2,
   "metadata": {
    "scrolled": false
   },
   "outputs": [
    {
     "data": {
      "text/html": [
       "<div>\n",
       "<style scoped>\n",
       "    .dataframe tbody tr th:only-of-type {\n",
       "        vertical-align: middle;\n",
       "    }\n",
       "\n",
       "    .dataframe tbody tr th {\n",
       "        vertical-align: top;\n",
       "    }\n",
       "\n",
       "    .dataframe thead th {\n",
       "        text-align: right;\n",
       "    }\n",
       "</style>\n",
       "<table border=\"1\" class=\"dataframe\">\n",
       "  <thead>\n",
       "    <tr style=\"text-align: right;\">\n",
       "      <th></th>\n",
       "      <th>N° BCE</th>\n",
       "      <th>Organisation publique</th>\n",
       "      <th>Catégorie</th>\n",
       "      <th>Nom du bâtiment</th>\n",
       "      <th>Adresse</th>\n",
       "      <th>Indice d’émission de CO2 [kg éq CO2/(m².an)]</th>\n",
       "      <th>Niveau de performance énergétique [kWhEP/(m².an)]</th>\n",
       "      <th>Classe</th>\n",
       "      <th># Catégorie</th>\n",
       "    </tr>\n",
       "  </thead>\n",
       "  <tbody>\n",
       "    <tr>\n",
       "      <th>0</th>\n",
       "      <td>0678.485.603</td>\n",
       "      <td>Agence Bruxelloise pour l'accompagnement de l'...</td>\n",
       "      <td>1 - Services administratifs</td>\n",
       "      <td>ABAE/BAOB</td>\n",
       "      <td>Chaussée de Charleroi 110, 1060 Saint-Gilles</td>\n",
       "      <td>35.65</td>\n",
       "      <td>215.73</td>\n",
       "      <td>C+</td>\n",
       "      <td>1</td>\n",
       "    </tr>\n",
       "    <tr>\n",
       "      <th>1</th>\n",
       "      <td>0207.202.193</td>\n",
       "      <td>COMMUNE DE SAINT-JOSSE-TEN-NOODE</td>\n",
       "      <td>3 - Enseignement du jour OU du soir</td>\n",
       "      <td>Académie des beaux-arts et école Joseph Delclef</td>\n",
       "      <td>Rue Potagère 52, 1210 Saint-Josse-ten-Noode</td>\n",
       "      <td>21.83</td>\n",
       "      <td>125.74</td>\n",
       "      <td>C</td>\n",
       "      <td>3</td>\n",
       "    </tr>\n",
       "    <tr>\n",
       "      <th>2</th>\n",
       "      <td>0240.682.635</td>\n",
       "      <td>Commission communautaire flamande</td>\n",
       "      <td>1 - Services administratifs</td>\n",
       "      <td>Admin. Huis Leo II</td>\n",
       "      <td>Boulevard Léopold II 178, 1080 Molenbeek-Saint...</td>\n",
       "      <td>41.86</td>\n",
       "      <td>237.01</td>\n",
       "      <td>C</td>\n",
       "      <td>1</td>\n",
       "    </tr>\n",
       "    <tr>\n",
       "      <th>3</th>\n",
       "      <td>0207.202.193</td>\n",
       "      <td>COMMUNE DE SAINT-JOSSE-TEN-NOODE</td>\n",
       "      <td>1 - Services administratifs</td>\n",
       "      <td>Administration communale de Saint-Josse-ten-Noode</td>\n",
       "      <td>Avenue de l'Astronomie 12, 1210 Saint-Josse-te...</td>\n",
       "      <td>52.54</td>\n",
       "      <td>312.45</td>\n",
       "      <td>D+</td>\n",
       "      <td>1</td>\n",
       "    </tr>\n",
       "    <tr>\n",
       "      <th>4</th>\n",
       "      <td>0316.380.841</td>\n",
       "      <td>Ministère de la Communauté flamande</td>\n",
       "      <td>13 - Ateliers, centres funéraires, dépôts, ...</td>\n",
       "      <td>Agence des routes et du trafic</td>\n",
       "      <td>Avenue des Olympiades 10, 1140 Evere</td>\n",
       "      <td>33.44</td>\n",
       "      <td>194.89</td>\n",
       "      <td>C-</td>\n",
       "      <td>13</td>\n",
       "    </tr>\n",
       "  </tbody>\n",
       "</table>\n",
       "</div>"
      ],
      "text/plain": [
       "         N° BCE                              Organisation publique  \\\n",
       "0  0678.485.603  Agence Bruxelloise pour l'accompagnement de l'...   \n",
       "1  0207.202.193                   COMMUNE DE SAINT-JOSSE-TEN-NOODE   \n",
       "2  0240.682.635                  Commission communautaire flamande   \n",
       "3  0207.202.193                   COMMUNE DE SAINT-JOSSE-TEN-NOODE   \n",
       "4  0316.380.841                Ministère de la Communauté flamande   \n",
       "\n",
       "                                        Catégorie  \\\n",
       "0                     1 - Services administratifs   \n",
       "1             3 - Enseignement du jour OU du soir   \n",
       "2                     1 - Services administratifs   \n",
       "3                     1 - Services administratifs   \n",
       "4  13 - Ateliers, centres funéraires, dépôts, ...   \n",
       "\n",
       "                                     Nom du bâtiment  \\\n",
       "0                                          ABAE/BAOB   \n",
       "1    Académie des beaux-arts et école Joseph Delclef   \n",
       "2                                 Admin. Huis Leo II   \n",
       "3  Administration communale de Saint-Josse-ten-Noode   \n",
       "4                     Agence des routes et du trafic   \n",
       "\n",
       "                                             Adresse  \\\n",
       "0       Chaussée de Charleroi 110, 1060 Saint-Gilles   \n",
       "1        Rue Potagère 52, 1210 Saint-Josse-ten-Noode   \n",
       "2  Boulevard Léopold II 178, 1080 Molenbeek-Saint...   \n",
       "3  Avenue de l'Astronomie 12, 1210 Saint-Josse-te...   \n",
       "4               Avenue des Olympiades 10, 1140 Evere   \n",
       "\n",
       "   Indice d’émission de CO2 [kg éq CO2/(m².an)]  \\\n",
       "0                                         35.65   \n",
       "1                                         21.83   \n",
       "2                                         41.86   \n",
       "3                                         52.54   \n",
       "4                                         33.44   \n",
       "\n",
       "   Niveau de performance énergétique [kWhEP/(m².an)] Classe  # Catégorie  \n",
       "0                                             215.73     C+            1  \n",
       "1                                             125.74      C            3  \n",
       "2                                             237.01      C            1  \n",
       "3                                             312.45     D+            1  \n",
       "4                                             194.89     C-           13  "
      ]
     },
     "execution_count": 2,
     "metadata": {},
     "output_type": "execute_result"
    }
   ],
   "source": [
    "## Crearte dataframe\n",
    "batiments = pd.read_csv('Liste des bâtiments publics certifiés BXL.csv')\n",
    "batiments.head()"
   ]
  },
  {
   "cell_type": "code",
   "execution_count": 3,
   "metadata": {},
   "outputs": [
    {
     "data": {
      "text/html": [
       "<div>\n",
       "<style scoped>\n",
       "    .dataframe tbody tr th:only-of-type {\n",
       "        vertical-align: middle;\n",
       "    }\n",
       "\n",
       "    .dataframe tbody tr th {\n",
       "        vertical-align: top;\n",
       "    }\n",
       "\n",
       "    .dataframe thead th {\n",
       "        text-align: right;\n",
       "    }\n",
       "</style>\n",
       "<table border=\"1\" class=\"dataframe\">\n",
       "  <thead>\n",
       "    <tr style=\"text-align: right;\">\n",
       "      <th></th>\n",
       "      <th>Indice d’émission de CO2 [kg éq CO2/(m².an)]</th>\n",
       "      <th>Niveau de performance énergétique [kWhEP/(m².an)]</th>\n",
       "      <th># Catégorie</th>\n",
       "    </tr>\n",
       "  </thead>\n",
       "  <tbody>\n",
       "    <tr>\n",
       "      <th>count</th>\n",
       "      <td>309.000000</td>\n",
       "      <td>309.000000</td>\n",
       "      <td>309.000000</td>\n",
       "    </tr>\n",
       "    <tr>\n",
       "      <th>mean</th>\n",
       "      <td>40.105696</td>\n",
       "      <td>234.546570</td>\n",
       "      <td>3.605178</td>\n",
       "    </tr>\n",
       "    <tr>\n",
       "      <th>std</th>\n",
       "      <td>18.951974</td>\n",
       "      <td>115.496913</td>\n",
       "      <td>3.520733</td>\n",
       "    </tr>\n",
       "    <tr>\n",
       "      <th>min</th>\n",
       "      <td>13.300000</td>\n",
       "      <td>74.180000</td>\n",
       "      <td>1.000000</td>\n",
       "    </tr>\n",
       "    <tr>\n",
       "      <th>25%</th>\n",
       "      <td>26.720000</td>\n",
       "      <td>145.530000</td>\n",
       "      <td>1.000000</td>\n",
       "    </tr>\n",
       "    <tr>\n",
       "      <th>50%</th>\n",
       "      <td>36.560000</td>\n",
       "      <td>215.640000</td>\n",
       "      <td>3.000000</td>\n",
       "    </tr>\n",
       "    <tr>\n",
       "      <th>75%</th>\n",
       "      <td>48.800000</td>\n",
       "      <td>294.850000</td>\n",
       "      <td>3.000000</td>\n",
       "    </tr>\n",
       "    <tr>\n",
       "      <th>max</th>\n",
       "      <td>146.460000</td>\n",
       "      <td>886.200000</td>\n",
       "      <td>13.000000</td>\n",
       "    </tr>\n",
       "  </tbody>\n",
       "</table>\n",
       "</div>"
      ],
      "text/plain": [
       "       Indice d’émission de CO2 [kg éq CO2/(m².an)]  \\\n",
       "count                                    309.000000   \n",
       "mean                                      40.105696   \n",
       "std                                       18.951974   \n",
       "min                                       13.300000   \n",
       "25%                                       26.720000   \n",
       "50%                                       36.560000   \n",
       "75%                                       48.800000   \n",
       "max                                      146.460000   \n",
       "\n",
       "       Niveau de performance énergétique [kWhEP/(m².an)]  # Catégorie  \n",
       "count                                         309.000000   309.000000  \n",
       "mean                                          234.546570     3.605178  \n",
       "std                                           115.496913     3.520733  \n",
       "min                                            74.180000     1.000000  \n",
       "25%                                           145.530000     1.000000  \n",
       "50%                                           215.640000     3.000000  \n",
       "75%                                           294.850000     3.000000  \n",
       "max                                           886.200000    13.000000  "
      ]
     },
     "execution_count": 3,
     "metadata": {},
     "output_type": "execute_result"
    }
   ],
   "source": [
    "batiments.shape #how many rows and how many columns\n",
    "batiments.info \n",
    "batiments.describe()"
   ]
  },
  {
   "cell_type": "code",
   "execution_count": 4,
   "metadata": {},
   "outputs": [
    {
     "data": {
      "text/html": [
       "<div>\n",
       "<style scoped>\n",
       "    .dataframe tbody tr th:only-of-type {\n",
       "        vertical-align: middle;\n",
       "    }\n",
       "\n",
       "    .dataframe tbody tr th {\n",
       "        vertical-align: top;\n",
       "    }\n",
       "\n",
       "    .dataframe thead th {\n",
       "        text-align: right;\n",
       "    }\n",
       "</style>\n",
       "<table border=\"1\" class=\"dataframe\">\n",
       "  <thead>\n",
       "    <tr style=\"text-align: right;\">\n",
       "      <th></th>\n",
       "      <th>Indice d’émission de CO2 [kg éq CO2/(m².an)]</th>\n",
       "      <th>Niveau de performance énergétique [kWhEP/(m².an)]</th>\n",
       "      <th># Catégorie</th>\n",
       "    </tr>\n",
       "  </thead>\n",
       "  <tbody>\n",
       "    <tr>\n",
       "      <th>Indice d’émission de CO2 [kg éq CO2/(m².an)]</th>\n",
       "      <td>1.000000</td>\n",
       "      <td>0.990174</td>\n",
       "      <td>-0.018389</td>\n",
       "    </tr>\n",
       "    <tr>\n",
       "      <th>Niveau de performance énergétique [kWhEP/(m².an)]</th>\n",
       "      <td>0.990174</td>\n",
       "      <td>1.000000</td>\n",
       "      <td>-0.040015</td>\n",
       "    </tr>\n",
       "    <tr>\n",
       "      <th># Catégorie</th>\n",
       "      <td>-0.018389</td>\n",
       "      <td>-0.040015</td>\n",
       "      <td>1.000000</td>\n",
       "    </tr>\n",
       "  </tbody>\n",
       "</table>\n",
       "</div>"
      ],
      "text/plain": [
       "                                                   Indice d’émission de CO2 [kg éq CO2/(m².an)]  \\\n",
       "Indice d’émission de CO2 [kg éq CO2/(m².an)]                                           1.000000   \n",
       "Niveau de performance énergétique [kWhEP/(m².an)]                                      0.990174   \n",
       "# Catégorie                                                                           -0.018389   \n",
       "\n",
       "                                                   Niveau de performance énergétique [kWhEP/(m².an)]  \\\n",
       "Indice d’émission de CO2 [kg éq CO2/(m².an)]                                                0.990174   \n",
       "Niveau de performance énergétique [kWhEP/(m².an)]                                           1.000000   \n",
       "# Catégorie                                                                                -0.040015   \n",
       "\n",
       "                                                   # Catégorie  \n",
       "Indice d’émission de CO2 [kg éq CO2/(m².an)]         -0.018389  \n",
       "Niveau de performance énergétique [kWhEP/(m².an)]    -0.040015  \n",
       "# Catégorie                                           1.000000  "
      ]
     },
     "execution_count": 4,
     "metadata": {},
     "output_type": "execute_result"
    }
   ],
   "source": [
    "corr = batiments.corr()\n",
    "corr"
   ]
  },
  {
   "cell_type": "code",
   "execution_count": 5,
   "metadata": {},
   "outputs": [
    {
     "data": {
      "text/plain": [
       "<matplotlib.axes._subplots.AxesSubplot at 0x1a8a1d33708>"
      ]
     },
     "execution_count": 5,
     "metadata": {},
     "output_type": "execute_result"
    },
    {
     "data": {
      "image/png": "[encoded data removed]",
      "text/plain": [
       "<Figure size 432x288 with 1 Axes>"
      ]
     },
     "metadata": {
      "needs_background": "light"
     },
     "output_type": "display_data"
    }
   ],
   "source": [
    "sns.countplot(x='# Catégorie',data=batiments)"
   ]
  },
  {
   "cell_type": "code",
   "execution_count": 6,
   "metadata": {},
   "outputs": [
    {
     "data": {
      "text/plain": [
       "<matplotlib.axes._subplots.AxesSubplot at 0x1a8a3fd2388>"
      ]
     },
     "execution_count": 6,
     "metadata": {},
     "output_type": "execute_result"
    },
    {
     "data": {
      "image/png": "[encoded data removed]",
      "text/plain": [
       "<Figure size 432x288 with 1 Axes>"
      ]
     },
     "metadata": {
      "needs_background": "light"
     },
     "output_type": "display_data"
    }
   ],
   "source": [
    "sns.countplot(x='Classe',data=batiments, order = batiments['Classe'].value_counts().index)"
   ]
  },
  {
   "cell_type": "code",
   "execution_count": 7,
   "metadata": {},
   "outputs": [
    {
     "data": {
      "text/plain": [
       "<seaborn.axisgrid.JointGrid at 0x1a8a40699c8>"
      ]
     },
     "execution_count": 7,
     "metadata": {},
     "output_type": "execute_result"
    },
    {
     "data": {
      "image/png": "[encoded data removed]",
      "text/plain": [
       "<Figure size 432x432 with 3 Axes>"
      ]
     },
     "metadata": {
      "needs_background": "light"
     },
     "output_type": "display_data"
    }
   ],
   "source": [
    "#Histograma de 2 variables\n",
    "sns.jointplot(x='Niveau de performance énergétique [kWhEP/(m².an)]',y='Indice d’émission de CO2 [kg éq CO2/(m².an)]',data=batiments)#, kind='reg')"
   ]
  },
  {
   "cell_type": "code",
   "execution_count": 8,
   "metadata": {},
   "outputs": [
    {
     "data": {
      "text/plain": [
       "<seaborn.axisgrid.FacetGrid at 0x1a8a421b7c8>"
      ]
     },
     "execution_count": 8,
     "metadata": {},
     "output_type": "execute_result"
    },
    {
     "data": {
      "image/png": "[encoded data removed]",
      "text/plain": [
       "<Figure size 648x864 with 11 Axes>"
      ]
     },
     "metadata": {
      "needs_background": "light"
     },
     "output_type": "display_data"
    }
   ],
   "source": [
    "grafico = sns.FacetGrid(data=batiments,col='# Catégorie',col_wrap=3)#,row='smoker')\n",
    "grafico.map(sns.distplot,'Niveau de performance énergétique [kWhEP/(m².an)]') "
   ]
  },
  {
   "cell_type": "code",
   "execution_count": 9,
   "metadata": {},
   "outputs": [
    {
     "data": {
      "text/plain": [
       "<matplotlib.axes._subplots.AxesSubplot at 0x1a8a48d9648>"
      ]
     },
     "execution_count": 9,
     "metadata": {},
     "output_type": "execute_result"
    },
    {
     "data": {
      "image/png": "[encoded data removed]",
      "text/plain": [
       "<Figure size 432x288 with 1 Axes>"
      ]
     },
     "metadata": {
      "needs_background": "light"
     },
     "output_type": "display_data"
    }
   ],
   "source": [
    "sns.boxplot(x='# Catégorie',y='Niveau de performance énergétique [kWhEP/(m².an)]',data=batiments)#,hue='# Catégorie')"
   ]
  },
  {
   "cell_type": "code",
   "execution_count": 10,
   "metadata": {
    "scrolled": true
   },
   "outputs": [
    {
     "data": {
      "text/html": [
       "<div>\n",
       "<style scoped>\n",
       "    .dataframe tbody tr th:only-of-type {\n",
       "        vertical-align: middle;\n",
       "    }\n",
       "\n",
       "    .dataframe tbody tr th {\n",
       "        vertical-align: top;\n",
       "    }\n",
       "\n",
       "    .dataframe thead th {\n",
       "        text-align: right;\n",
       "    }\n",
       "</style>\n",
       "<table border=\"1\" class=\"dataframe\">\n",
       "  <thead>\n",
       "    <tr style=\"text-align: right;\">\n",
       "      <th># Catégorie</th>\n",
       "      <th>1</th>\n",
       "      <th>2</th>\n",
       "      <th>3</th>\n",
       "      <th>4</th>\n",
       "      <th>5</th>\n",
       "      <th>6</th>\n",
       "      <th>8</th>\n",
       "      <th>10</th>\n",
       "      <th>11</th>\n",
       "      <th>12</th>\n",
       "      <th>13</th>\n",
       "    </tr>\n",
       "    <tr>\n",
       "      <th>Classe</th>\n",
       "      <th></th>\n",
       "      <th></th>\n",
       "      <th></th>\n",
       "      <th></th>\n",
       "      <th></th>\n",
       "      <th></th>\n",
       "      <th></th>\n",
       "      <th></th>\n",
       "      <th></th>\n",
       "      <th></th>\n",
       "      <th></th>\n",
       "    </tr>\n",
       "  </thead>\n",
       "  <tbody>\n",
       "    <tr>\n",
       "      <th>B</th>\n",
       "      <td>5.0</td>\n",
       "      <td>2.0</td>\n",
       "      <td>6.0</td>\n",
       "      <td>0.0</td>\n",
       "      <td>0.0</td>\n",
       "      <td>0.0</td>\n",
       "      <td>0.0</td>\n",
       "      <td>1.0</td>\n",
       "      <td>0.0</td>\n",
       "      <td>0.0</td>\n",
       "      <td>0.0</td>\n",
       "    </tr>\n",
       "    <tr>\n",
       "      <th>B+</th>\n",
       "      <td>2.0</td>\n",
       "      <td>0.0</td>\n",
       "      <td>0.0</td>\n",
       "      <td>0.0</td>\n",
       "      <td>0.0</td>\n",
       "      <td>0.0</td>\n",
       "      <td>1.0</td>\n",
       "      <td>1.0</td>\n",
       "      <td>0.0</td>\n",
       "      <td>0.0</td>\n",
       "      <td>0.0</td>\n",
       "    </tr>\n",
       "    <tr>\n",
       "      <th>B-</th>\n",
       "      <td>9.0</td>\n",
       "      <td>1.0</td>\n",
       "      <td>13.0</td>\n",
       "      <td>0.0</td>\n",
       "      <td>0.0</td>\n",
       "      <td>0.0</td>\n",
       "      <td>0.0</td>\n",
       "      <td>3.0</td>\n",
       "      <td>3.0</td>\n",
       "      <td>0.0</td>\n",
       "      <td>0.0</td>\n",
       "    </tr>\n",
       "    <tr>\n",
       "      <th>C</th>\n",
       "      <td>24.0</td>\n",
       "      <td>3.0</td>\n",
       "      <td>19.0</td>\n",
       "      <td>2.0</td>\n",
       "      <td>2.0</td>\n",
       "      <td>0.0</td>\n",
       "      <td>1.0</td>\n",
       "      <td>0.0</td>\n",
       "      <td>7.0</td>\n",
       "      <td>1.0</td>\n",
       "      <td>0.0</td>\n",
       "    </tr>\n",
       "    <tr>\n",
       "      <th>C+</th>\n",
       "      <td>18.0</td>\n",
       "      <td>1.0</td>\n",
       "      <td>26.0</td>\n",
       "      <td>1.0</td>\n",
       "      <td>1.0</td>\n",
       "      <td>1.0</td>\n",
       "      <td>4.0</td>\n",
       "      <td>0.0</td>\n",
       "      <td>2.0</td>\n",
       "      <td>0.0</td>\n",
       "      <td>0.0</td>\n",
       "    </tr>\n",
       "  </tbody>\n",
       "</table>\n",
       "</div>"
      ],
      "text/plain": [
       "# Catégorie    1    2     3    4    5    6    8    10   11   12   13\n",
       "Classe                                                              \n",
       "B             5.0  2.0   6.0  0.0  0.0  0.0  0.0  1.0  0.0  0.0  0.0\n",
       "B+            2.0  0.0   0.0  0.0  0.0  0.0  1.0  1.0  0.0  0.0  0.0\n",
       "B-            9.0  1.0  13.0  0.0  0.0  0.0  0.0  3.0  3.0  0.0  0.0\n",
       "C            24.0  3.0  19.0  2.0  2.0  0.0  1.0  0.0  7.0  1.0  0.0\n",
       "C+           18.0  1.0  26.0  1.0  1.0  1.0  4.0  0.0  2.0  0.0  0.0"
      ]
     },
     "execution_count": 10,
     "metadata": {},
     "output_type": "execute_result"
    }
   ],
   "source": [
    "batiments_matrix = batiments.pivot_table(index='Classe',columns='# Catégorie',values='Niveau de performance énergétique [kWhEP/(m².an)]',aggfunc='count').fillna(0)\n",
    "#batiments_matrix = batiments_matrix.fillna(0)\n",
    "batiments_matrix.head()"
   ]
  },
  {
   "cell_type": "code",
   "execution_count": 11,
   "metadata": {},
   "outputs": [
    {
     "data": {
      "text/plain": [
       "<matplotlib.axes._subplots.AxesSubplot at 0x1a8a4cfb208>"
      ]
     },
     "execution_count": 11,
     "metadata": {},
     "output_type": "execute_result"
    },
    {
     "data": {
      "image/png": "[encoded data removed]",
      "text/plain": [
       "<Figure size 432x288 with 2 Axes>"
      ]
     },
     "metadata": {
      "needs_background": "light"
     },
     "output_type": "display_data"
    }
   ],
   "source": [
    "sns.heatmap(batiments_matrix,cmap='viridis',linecolor='white',linewidth=2)  #cmap='viridis' / 'coolwarm' / 'plasma' / 'inferno'"
   ]
  }
 ],
 "metadata": {
  "kernelspec": {
   "display_name": "Python 3",
   "language": "python",
   "name": "python3"
  },
  "language_info": {
   "codemirror_mode": {
    "name": "ipython",
    "version": 3
   },
   "file_extension": ".py",
   "mimetype": "text/x-python",
   "name": "python",
   "nbconvert_exporter": "python",
   "pygments_lexer": "ipython3",
   "version": "3.7.6"
  }
 },
 "nbformat": 4,
 "nbformat_minor": 2
}
